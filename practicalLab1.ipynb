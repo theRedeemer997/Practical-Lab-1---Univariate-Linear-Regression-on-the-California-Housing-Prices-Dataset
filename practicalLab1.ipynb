{
 "cells": [
  {
   "cell_type": "markdown",
   "id": "9c6a8789",
   "metadata": {},
   "source": [
    "# Practical Lab 1 - Univariate Linear Regression on the California Housing Prices Dataset"
   ]
  },
  {
   "cell_type": "markdown",
   "id": "53d6d433",
   "metadata": {},
   "source": [
    "#### Step 1 - Framing the problem - describing the goal of this report"
   ]
  },
  {
   "cell_type": "markdown",
   "id": "00ca95b5",
   "metadata": {},
   "source": [
    "The goal of this lab is to run a linear regression between the median and house value which is the dependent variable with the independent variables like the median income, populations and number of households. The main focus is to identify which feature offers the best predictive power for median house value using linear regression evaluation metrics. "
   ]
  },
  {
   "cell_type": "markdown",
   "id": "5282cfd5",
   "metadata": {},
   "source": [
    "#### Step 2 -  Getting the Data from the hyperlink, convert it into the .csv file , load it into pandas "
   ]
  },
  {
   "cell_type": "markdown",
   "id": "29832cb7",
   "metadata": {},
   "source": [
    "#### Adding Imports"
   ]
  },
  {
   "cell_type": "code",
   "execution_count": 33,
   "id": "d5c215e4",
   "metadata": {},
   "outputs": [],
   "source": [
    "import kagglehub\n",
    "import os\n",
    "import shutil\n",
    "import pandas as pd"
   ]
  },
  {
   "cell_type": "markdown",
   "id": "1bcf0b17",
   "metadata": {},
   "source": [
    "#### Download the datasource from kaggle\n",
    "- the dataset_download method returns the path where the dataset has been downloaded"
   ]
  },
  {
   "cell_type": "markdown",
   "id": "fdd6b8a6",
   "metadata": {},
   "source": [
    "#### Step 2: Move the .csv file to data directory"
   ]
  },
  {
   "cell_type": "code",
   "execution_count": 34,
   "id": "96c3db75",
   "metadata": {},
   "outputs": [],
   "source": [
    "def move_csvs_to_data(src_dir, target_dir='data'):\n",
    "    # will create the data directory only if doesn't exists\n",
    "    os.makedirs(target_dir, exist_ok=True)\n",
    "\n",
    "    for root,_, files in os.walk(src_dir):\n",
    "        for file in files:\n",
    "            if file.endswith('.csv'):\n",
    "                source = os.path.join(root, file)\n",
    "                destination = os.path.join(target_dir, file)\n",
    "                # copies the file from source to destination\n",
    "                shutil.copy(source, destination)"
   ]
  },
  {
   "cell_type": "code",
   "execution_count": 35,
   "id": "c930a3ba",
   "metadata": {},
   "outputs": [],
   "source": [
    "dataset_path = kagglehub.dataset_download(\"camnugent/california-housing-prices\")"
   ]
  },
  {
   "cell_type": "code",
   "execution_count": 36,
   "id": "be975d3a",
   "metadata": {},
   "outputs": [],
   "source": [
    "move_csvs_to_data(dataset_path)"
   ]
  },
  {
   "cell_type": "markdown",
   "id": "95f374fd",
   "metadata": {},
   "source": [
    "#### Step2. Load the dataset using the pandas"
   ]
  },
  {
   "cell_type": "code",
   "execution_count": 37,
   "id": "8428ce30",
   "metadata": {},
   "outputs": [],
   "source": [
    "df = pd.read_csv(\"./data/housing.csv\")"
   ]
  },
  {
   "cell_type": "code",
   "execution_count": 38,
   "id": "a4cc7336",
   "metadata": {},
   "outputs": [
    {
     "name": "stdout",
     "output_type": "stream",
     "text": [
      "   longitude  latitude  housing_median_age  total_rooms  total_bedrooms  \\\n",
      "0    -122.23     37.88                41.0        880.0           129.0   \n",
      "1    -122.22     37.86                21.0       7099.0          1106.0   \n",
      "2    -122.24     37.85                52.0       1467.0           190.0   \n",
      "3    -122.25     37.85                52.0       1274.0           235.0   \n",
      "4    -122.25     37.85                52.0       1627.0           280.0   \n",
      "\n",
      "   population  households  median_income  median_house_value ocean_proximity  \n",
      "0       322.0       126.0         8.3252            452600.0        NEAR BAY  \n",
      "1      2401.0      1138.0         8.3014            358500.0        NEAR BAY  \n",
      "2       496.0       177.0         7.2574            352100.0        NEAR BAY  \n",
      "3       558.0       219.0         5.6431            341300.0        NEAR BAY  \n",
      "4       565.0       259.0         3.8462            342200.0        NEAR BAY  \n"
     ]
    }
   ],
   "source": [
    "print(df.head())"
   ]
  }
 ],
 "metadata": {
  "language_info": {
   "name": "python"
  }
 },
 "nbformat": 4,
 "nbformat_minor": 5
}
