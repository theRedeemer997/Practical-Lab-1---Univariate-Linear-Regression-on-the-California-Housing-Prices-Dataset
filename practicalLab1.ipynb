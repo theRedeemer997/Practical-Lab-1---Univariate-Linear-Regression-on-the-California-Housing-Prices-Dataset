{
 "cells": [
  {
   "cell_type": "markdown",
   "id": "9c6a8789",
   "metadata": {},
   "source": [
    "# Practical Lab 1 - Univariate Linear Regression on the California Housing Prices Dataset"
   ]
  },
  {
   "cell_type": "markdown",
   "id": "53d6d433",
   "metadata": {},
   "source": [
    "#### Step 1 - Framing the problem - describing the goal of this report"
   ]
  },
  {
   "cell_type": "markdown",
   "id": "00ca95b5",
   "metadata": {},
   "source": [
    "The goal of this lab is to run a linear regression between the median and house value which is the dependent variable with the independent variables like the median income, populations and number of households. The main focus is to identify which feature offers the best predictive power for median house value using linear regression evaluation metrics. "
   ]
  },
  {
   "cell_type": "markdown",
   "id": "5282cfd5",
   "metadata": {},
   "source": [
    "#### Step 2 -  Getting the Data from the hyperlink, convert it into the .csv file , load it into pandas "
   ]
  },
  {
   "cell_type": "code",
   "execution_count": null,
   "id": "a5d8e166",
   "metadata": {
    "vscode": {
     "languageId": "plaintext"
    }
   },
   "outputs": [],
   "source": []
  },
  {
   "cell_type": "code",
   "execution_count": null,
   "metadata": {
    "vscode": {
     "languageId": "plaintext"
    }
   },
   "outputs": [],
   "source": []
  }
 ],
 "metadata": {
  "language_info": {
   "name": "python"
  }
 },
 "nbformat": 4,
 "nbformat_minor": 5
}
