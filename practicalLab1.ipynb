{
 "cells": [
  {
   "cell_type": "markdown",
   "id": "9c6a8789",
   "metadata": {},
   "source": [
    "# Practical Lab 1 - Univariate Linear Regression on the California Housing Prices Dataset"
   ]
  }
 ],
 "metadata": {
  "language_info": {
   "name": "python"
  }
 },
 "nbformat": 4,
 "nbformat_minor": 5
}
